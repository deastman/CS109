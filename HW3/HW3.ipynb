{
 "metadata": {
  "name": ""
 },
 "nbformat": 3,
 "nbformat_minor": 0,
 "worksheets": [
  {
   "cells": [
    {
     "cell_type": "markdown",
     "metadata": {},
     "source": [
      "# Homework 3. Bayesian Tomatoes"
     ]
    },
    {
     "cell_type": "markdown",
     "metadata": {},
     "source": [
      "Due Thursday, October 17, 11:59pm"
     ]
    },
    {
     "cell_type": "markdown",
     "metadata": {},
     "source": [
      "<div class=\"banner-container\">\n",
      "<img src=\"http://content7.flixster.com/movie/11/16/81/11168101_det.jpg\" width=180>\n",
      "</div>\n",
      "\n",
      "<div class=\"banner-container\">\n",
      "<img src=\"http://content6.flixster.com/movie/11/15/15/11151508_det.jpg\" width=180>\n",
      "</div>\n",
      "\n",
      "<div class=\"banner-container\">\n",
      "<img src=\"http://content9.flixster.com/movie/11/16/61/11166199_det.jpg\" width=180>\n",
      "</div>\n",
      "\n",
      "<div class=\"clear\"> </div>\n",
      "\n",
      "<style type=\"text/css\">\n",
      ".banner-container {\n",
      "height:350px;\n",
      "margin-left: 30px;\n",
      "float:left;\n",
      "}\n",
      ".clear {\n",
      "clear:both;\n",
      "}\n",
      "</style>"
     ]
    },
    {
     "cell_type": "markdown",
     "metadata": {},
     "source": [
      "In this assignment, you'll be analyzing movie reviews from [Rotten Tomatoes](http://www.rottentomatoes.com). This assignment will cover:\n",
      "\n",
      " * Working with web APIs\n",
      " * Making and interpreting predictions from a Bayesian perspective\n",
      " * Using the Naive Bayes algorithm to predict whether a movie review is positive or negative\n",
      " * Using cross validation to optimize models\n",
      "\n",
      "Useful libraries for this assignment\n",
      "\n",
      "* [numpy](http://docs.scipy.org/doc/numpy-dev/user/index.html), for arrays\n",
      "* [scikit-learn](http://scikit-learn.org/stable/), for machine learning\n",
      "* [json](http://docs.python.org/2/library/json.html) for parsing JSON data from the web.\n",
      "* [pandas](http://pandas.pydata.org/), for data frames\n",
      "* [matplotlib](http://matplotlib.org/), for plotting\n",
      "* [requests](http://docs.python-requests.org/en/latest/), for downloading web content"
     ]
    },
    {
     "cell_type": "code",
     "collapsed": false,
     "input": [
      "%matplotlib inline\n",
      "\n",
      "import json\n",
      "\n",
      "import requests\n",
      "import pandas as pd\n",
      "import numpy as np\n",
      "import matplotlib.pyplot as plt\n",
      "\n",
      "from collections import defaultdict\n",
      "\n",
      "pd.set_option('display.width', 500)\n",
      "pd.set_option('display.max_columns', 30)\n",
      "\n",
      "# set some nicer defaults for matplotlib\n",
      "from matplotlib import rcParams\n",
      "\n",
      "#these colors come from colorbrewer2.org. Each is an RGB triplet\n",
      "dark2_colors = [(0.10588235294117647, 0.6196078431372549, 0.4666666666666667),\n",
      "                (0.8509803921568627, 0.37254901960784315, 0.00784313725490196),\n",
      "                (0.4588235294117647, 0.4392156862745098, 0.7019607843137254),\n",
      "                (0.9058823529411765, 0.1607843137254902, 0.5411764705882353),\n",
      "                (0.4, 0.6509803921568628, 0.11764705882352941),\n",
      "                (0.9019607843137255, 0.6705882352941176, 0.00784313725490196),\n",
      "                (0.6509803921568628, 0.4627450980392157, 0.11372549019607843),\n",
      "                (0.4, 0.4, 0.4)]\n",
      "\n",
      "rcParams['figure.figsize'] = (10, 6)\n",
      "rcParams['figure.dpi'] = 150\n",
      "rcParams['axes.color_cycle'] = dark2_colors\n",
      "rcParams['lines.linewidth'] = 2\n",
      "rcParams['axes.grid'] = False\n",
      "rcParams['axes.facecolor'] = 'white'\n",
      "rcParams['font.size'] = 14\n",
      "rcParams['patch.edgecolor'] = 'none'\n",
      "\n",
      "\n",
      "def remove_border(axes=None, top=False, right=False, left=True, bottom=True):\n",
      "    \"\"\"\n",
      "    Minimize chartjunk by stripping out unnecessary plot borders and axis ticks\n",
      "    \n",
      "    The top/right/left/bottom keywords toggle whether the corresponding plot border is drawn\n",
      "    \"\"\"\n",
      "    ax = axes or plt.gca()\n",
      "    ax.spines['top'].set_visible(top)\n",
      "    ax.spines['right'].set_visible(right)\n",
      "    ax.spines['left'].set_visible(left)\n",
      "    ax.spines['bottom'].set_visible(bottom)\n",
      "    \n",
      "    #turn off all ticks\n",
      "    ax.yaxis.set_ticks_position('none')\n",
      "    ax.xaxis.set_ticks_position('none')\n",
      "    \n",
      "    #now re-enable visibles\n",
      "    if top:\n",
      "        ax.xaxis.tick_top()\n",
      "    if bottom:\n",
      "        ax.xaxis.tick_bottom()\n",
      "    if left:\n",
      "        ax.yaxis.tick_left()\n",
      "    if right:\n",
      "        ax.yaxis.tick_right()"
     ],
     "language": "python",
     "metadata": {},
     "outputs": [],
     "prompt_number": 492
    },
    {
     "cell_type": "markdown",
     "metadata": {},
     "source": [
      "## Introduction\n",
      "\n",
      "Rotten Tomatoes gathers movie reviews from critics. An [entry on the website](http://www.rottentomatoes.com/m/primer/reviews/?type=top_critics) typically consists of a short quote, a link to the full review, and a Fresh/Rotten classification which summarizes whether the critic liked/disliked the movie.\n",
      "\n",
      "\n",
      "When critics give quantitative ratings (say 3/4 stars, Thumbs up, etc.), determining the Fresh/Rotten classification is easy. However, publications like the New York Times don't assign numerical ratings to movies, and thus the Fresh/Rotten classification must be inferred from the text of the review itself.\n",
      "\n",
      "This basic task of categorizing text has many applications. All of the following questions boil down to text classification:\n",
      "\n",
      " * Is a movie review positive or negative?\n",
      " * Is an email spam, or not?\n",
      " * Is a comment on a blog discussion board appropriate, or not?\n",
      " * Is a tweet about your company positive, or not?\n",
      " \n",
      "\n",
      "Language is incredibly nuanced, and there is an entire field of computer science dedicated to the topic (Natural Language Processing). Nevertheless, we can construct basic language models using fairly straightforward techniques. \n",
      "\n",
      "## The Data\n",
      "\n",
      "You will be starting with a database of Movies, derived from the MovieLens dataset. This dataset includes information for about 10,000 movies, including the IMDB id for each movie. \n",
      "\n",
      "Your first task is to download Rotten Tomatoes reviews from 3000 of these movies, using the Rotten Tomatoes API (Application Programming Interface)."
     ]
    },
    {
     "cell_type": "markdown",
     "metadata": {},
     "source": [
      "### Working with Web APIs\n",
      "Web APIs are a more convenient way for programs to interact with websites. Rotten Tomatoes has a nice API that gives access to its data in JSON format.\n",
      "\n",
      "To use this, you will first need to [register for an API key](http://developer.rottentomatoes.com/member/register). For \"application URL\", you can use anything -- it doesn't matter.\n",
      "\n",
      "After you have a key, the [documentation page](http://developer.rottentomatoes.com/iodocs) shows the various data you can fetch from Rotten Tomatoes -- each type of data lives at a different web address. The basic pattern for fetching this data with Python is as follows (compare this to the `Movie Reviews` tab on the documentation page):"
     ]
    },
    {
     "cell_type": "code",
     "collapsed": false,
     "input": [
      "api_key = 'c9hs8vfynt7dmvzarkbhb9sk'\n",
      "movie_id = '9559' # toy story 1\n",
      "#movie_id = '770672122'  # toy story 3\n",
      "url = 'http://api.rottentomatoes.com/api/public/v1.0/movies/%s/reviews.json' % movie_id\n",
      "\n",
      "#these are \"get parameters\"\n",
      "options = {'review_type': 'top_critic', 'page_limit': 20, 'page': 1, 'apikey': api_key}\n",
      "data = requests.get(url, params=options).text\n",
      "data = json.loads(data)  # load a json string into a collection of lists and dicts\n",
      "\n",
      "print json.dumps(data['reviews'][0], indent=2)  # dump an object into a json string\n",
      "\n",
      "#written by DME - testing the Movies Alias API\n",
      "imdb_id = '0114709'\n",
      "url_alias = \"http://api.rottentomatoes.com/api/public/v1.0/movie_alias.json?id={0}&type=imdb&apikey={1}\".format(imdb_id, api_key)\n",
      "data_alias = requests.get(url_alias).text\n",
      "data_alias = json.loads(data_alias)\n",
      "print data_alias\n",
      "print json.dumps(data_alias['id'], indent=2)"
     ],
     "language": "python",
     "metadata": {},
     "outputs": [
      {
       "output_type": "stream",
       "stream": "stdout",
       "text": [
        "{\n",
        "  \"publication\": \"Entertainment Weekly\", \n",
        "  \"links\": {\n",
        "    \"review\": \"http://www.ew.com/ew/article/0,,299671,00.html\"\n",
        "  }, \n",
        "  \"quote\": \"\", \n",
        "  \"freshness\": \"fresh\", \n",
        "  \"original_score\": \"A\", \n",
        "  \"critic\": \"Owen Gleiberman\", \n",
        "  \"date\": \"2011-09-07\"\n",
        "}\n",
        "{u'ratings': {u'critics_score': 100, u'audience_score': 84, u'critics_rating': u'Certified Fresh', u'audience_rating': u'Upright'}, u'genres': [u'Animation', u'Kids & Family', u'Science Fiction & Fantasy', u'Comedy'], u'studio': u'Buena Vista', u'links': {u'reviews': u'http://api.rottentomatoes.com/api/public/v1.0/movies/9559/reviews.json', u'self': u'http://api.rottentomatoes.com/api/public/v1.0/movie_alias.json?type=imdb&id=0114709', u'alternate': u'http://www.rottentomatoes.com/m/toy_story/', u'clips': u'http://api.rottentomatoes.com/api/public/v1.0/movies/9559/clips.json', u'cast': u'http://api.rottentomatoes.com/api/public/v1.0/movies/9559/cast.json', u'similar': u'http://api.rottentomatoes.com/api/public/v1.0/movies/9559/similar.json', u'canonical': u'http://api.rottentomatoes.com/api/public/v1.0/movies/9559.json'}, u'title': u'Toy Story', u'link_template': u'http://api.rottentomatoes.com/api/public/v1.0/movie_alias.json?type=imdb&id={alias-id}', u'critics_consensus': u\"As entertaining as it is innovative, Toy Story kicked off Pixar's unprecedented run of quality pictures, reinvigorating animated film in the process.\", u'release_dates': {u'dvd': u'2001-03-20', u'theater': u'1995-11-22'}, u'abridged_cast': [{u'name': u'Tom Hanks', u'characters': [u'Woody'], u'id': u'162655641'}, {u'name': u'Tim Allen', u'characters': [u'Buzz Lightyear'], u'id': u'162655909'}, {u'name': u'Don Rickles', u'characters': [u'Mr. Potato Head'], u'id': u'341817905'}, {u'name': u'Jim Varney', u'characters': [u'Slinky Dog'], u'id': u'162662792'}, {u'name': u'Wallace Shawn', u'characters': [u'Rex'], u'id': u'162671862'}], u'synopsis': u'', u'mpaa_rating': u'G', u'year': 1995, u'alternate_ids': {u'imdb': u'0114709'}, u'posters': {u'profile': u'http://content7.flixster.com/movie/10/93/63/10936393_pro.jpg', u'detailed': u'http://content7.flixster.com/movie/10/93/63/10936393_det.jpg', u'thumbnail': u'http://content7.flixster.com/movie/10/93/63/10936393_mob.jpg', u'original': u'http://content7.flixster.com/movie/10/93/63/10936393_ori.jpg'}, u'runtime': 80, u'id': 9559, u'abridged_directors': [{u'name': u'John Lasseter'}]}"
       ]
      },
      {
       "output_type": "stream",
       "stream": "stdout",
       "text": [
        "\n",
        "9559\n"
       ]
      }
     ],
     "prompt_number": 233
    },
    {
     "cell_type": "markdown",
     "metadata": {},
     "source": [
      "## Part 1: Get the data\n",
      "Here's a chunk of the MovieLens Dataset:"
     ]
    },
    {
     "cell_type": "code",
     "collapsed": false,
     "input": [
      "from io import StringIO  \n",
      "movie_txt = requests.get('https://raw.github.com/cs109/cs109_data/master/movies.dat').text\n",
      "movie_file = StringIO(movie_txt) # treat a string like a file\n",
      "movies = pd.read_csv(movie_file, delimiter='\\t')\n",
      "\n",
      "#print the first row\n",
      "print movies[['id', 'title', 'imdbID', 'year']].irow(0)\n",
      "movies2 = movies[['id', 'title', 'imdbID', 'year']]\n",
      "movies2['rtid']=0\n",
      "print len(movies2)\n",
      "movies2.columns"
     ],
     "language": "python",
     "metadata": {},
     "outputs": [
      {
       "output_type": "stream",
       "stream": "stdout",
       "text": [
        "id                1\n",
        "title     Toy story\n",
        "imdbID       114709\n",
        "year           1995\n",
        "Name: 0, dtype: object\n",
        "9423\n"
       ]
      },
      {
       "metadata": {},
       "output_type": "pyout",
       "prompt_number": 234,
       "text": [
        "Index([id, title, imdbID, year, rtid], dtype=object)"
       ]
      }
     ],
     "prompt_number": 234
    },
    {
     "cell_type": "markdown",
     "metadata": {},
     "source": [
      "#### P1.1\n",
      "\n",
      "We'd like you to write a function that looks up the first 20 Top Critic Rotten Tomatoes reviews for a movie in the `movies` dataframe. This involves two steps:\n",
      "\n",
      "1. Use the `Movie Alias` API to look up the Rotten Tomatoes movie id from the IMDB id\n",
      "1. Use the `Movie Reviews` API to fetch the first 20 top-critic reviews for this movie\n",
      "\n",
      "Not all movies have Rotten Tomatoes IDs. In these cases, your function should return `None`. The detailed spec is below. We are giving you some freedom with how you implement this, but you'll probably want to break this task up into several small functions.\n",
      "\n",
      "**Hint**\n",
      "In some situations, the leading 0s in front of IMDB ids are important. IMDB ids have 7 digits"
     ]
    },
    {
     "cell_type": "code",
     "collapsed": true,
     "input": [
      "\"\"\"\n",
      "Function\n",
      "--------\n",
      "fetch_reviews(movies, row)\n",
      "\n",
      "Use the Rotten Tomatoes web API to fetch reviews for a particular movie\n",
      "\n",
      "Parameters\n",
      "----------\n",
      "movies : DataFrame \n",
      "  The movies data above\n",
      "row : int\n",
      "  The row of the movies DataFrame to use\n",
      "  \n",
      "Returns\n",
      "-------\n",
      "If you can match the IMDB id to a Rotten Tomatoes ID:\n",
      "  A DataFrame, containing the first 20 Top Critic reviews \n",
      "  for the movie. If a movie has less than 20 total reviews, return them all.\n",
      "  This should have the following columns:\n",
      "    critic : Name of the critic\n",
      "    fresh  : 'fresh' or 'rotten'\n",
      "    imdb   : IMDB id for the movie\n",
      "    publication: Publication that the critic writes for\n",
      "    quote  : string containing the movie review quote\n",
      "    review_data: Date of review\n",
      "    rtid   : Rotten Tomatoes ID for the movie\n",
      "    title  : Name of the movie\n",
      "    \n",
      "If you cannot match the IMDB id to a Rotten Tomatoes ID, return None\n",
      "\"\"\"\n",
      "def get_rtid(movies, row):\n",
      "    imdb_id = movies['imdbID'].irow(row)\n",
      "    if len(str(imdb_id))==0: # If IMDB_ID missing, return None\n",
      "        return None\n",
      "    if len(str(imdb_id)) < 7: # IMDB_ID must have a length of 7; zero pad the ID if length < 7\n",
      "        imdb_id = str(imdb_id).zfill(7)\n",
      "        \n",
      "    url_alias = \"http://api.rottentomatoes.com/api/public/v1.0/movie_alias.json?id={0}&type=imdb&apikey={1}\".format(imdb_id, api_key)\n",
      "    data_alias = requests.get(url_alias).text\n",
      "    data_alias = json.loads(data_alias)\n",
      "    \n",
      "    if len(data_alias)<2: # Indicates there is an error and no movie found; return None\n",
      "        return None\n",
      "    else:\n",
      "        try:\n",
      "            rt_id = json.dumps(data_alias['id'])\n",
      "        except KeyError:\n",
      "            return None\n",
      "    if len(rt_id)==0:\n",
      "        return None\n",
      "    else:\n",
      "        return rt_id\n",
      "\n",
      "def merge_rtid(movies_subset):\n",
      "    for x in xrange(len(movies_subset)):\n",
      "        rtid= get_rtid(movies_subset, x)\n",
      "        movies_subset.ix[x,'rtid']=rtid\n",
      "    return movies_subset\n",
      "\n",
      "def fetch_reviews(movies, row):\n",
      "    movie_id = movies['rtid'].irow(row)\n",
      "    imdb = movies['imdbID'].irow(row)\n",
      "    url = 'http://api.rottentomatoes.com/api/public/v1.0/movies/%s/reviews.json' % movie_id\n",
      "\n",
      "    #the \"get parameters\"\n",
      "    options = {'review_type': 'top_critic', 'page_limit': 20, 'page': 1, 'apikey': api_key}\n",
      "    myrequest = requests.get(url, params=options)\n",
      "   \n",
      "    status = myrequest.status_code\n",
      "    if status != 200:\n",
      "        return None\n",
      "    else:\n",
      "        data = myrequest.text\n",
      "    \n",
      "        data = json.loads(data)  # load a json string into a collection of lists and dicts    \n",
      "        reviews = defaultdict(list) # Create a default dict to store all of the review-related information for this movie\n",
      "        review_list = data['reviews']\n",
      "        for review in review_list:\n",
      "            reviews['critic'].append(review['critic'])\n",
      "            reviews['fresh'].append(review['freshness'])\n",
      "            reviews['publication'].append(review['publication'])\n",
      "            reviews['quote'].append(review['quote'])\n",
      "            reviews['review_date'].append(review['date'])\n",
      "        \n",
      "        mydf = pd.DataFrame(reviews)\n",
      "        title = movies['title'].irow(row)\n",
      "        mydf['title']=title\n",
      "        mydf['rtid']=movie_id\n",
      "        mydf['imdb']=imdb\n",
      "        return mydf"
     ],
     "language": "python",
     "metadata": {},
     "outputs": [],
     "prompt_number": 235
    },
    {
     "cell_type": "markdown",
     "metadata": {},
     "source": [
      "#### P1.2\n",
      "\n",
      "Use the function you wrote to retrieve reviews for the first 3,000 movies in the movies dataframe.\n",
      "\n",
      "##### Hints\n",
      "* Rotten Tomatoes limits you to **10,000 API requests a day**. Be careful about this limit! Test your code on smaller inputs before scaling. You are responsible if you hit the limit the day the assignment is due :)\n",
      "* This will take a while to download. If you don't want to re-run this function every time you restart the notebook, you can save and re-load this data as a CSV file. However, please don't submit this file"
     ]
    },
    {
     "cell_type": "code",
     "collapsed": false,
     "input": [
      "\"\"\"\n",
      "Function\n",
      "--------\n",
      "build_table\n",
      "\n",
      "Parameters\n",
      "----------\n",
      "movies : DataFrame\n",
      "  The movies data above\n",
      "rows : int\n",
      "  The number of rows to extract reviews for\n",
      "  \n",
      "Returns\n",
      "--------\n",
      "A dataframe\n",
      "  The data obtained by repeatedly calling `fetch_reviews` on the first `rows`\n",
      "  of `movies`, discarding the `None`s,\n",
      "  and concatenating the results into a single DataFrame\n",
      "\"\"\"\n",
      "def build_table(movies, rows):\n",
      "    movies_subset = movies[:rows]\n",
      "    movies_wid = merge_rtid(movies_subset)\n",
      "    print movies_wid.head(20)\n",
      "    allreviews = pd.DataFrame()\n",
      "    \n",
      "    for x in xrange(len(movies_subset)):\n",
      "        allreviews = allreviews.append(fetch_reviews(movies_wid, x), ignore_index=True)\n",
      "    return allreviews"
     ],
     "language": "python",
     "metadata": {},
     "outputs": [],
     "prompt_number": 184
    },
    {
     "cell_type": "code",
     "collapsed": false,
     "input": [
      "#you can toggle which lines are commented, if you\n",
      "#want to re-load your results to avoid repeatedly calling this function\n",
      "\n",
      "critics = build_table(movies2, 3000)\n",
      "#critics.to_csv('critics.csv', index=False)\n",
      "#critics = pd.read_csv('critics_test.csv')\n",
      "\n",
      "#for this assignment, let's drop rows with missing data\n",
      "critics = critics[~critics.quote.isnull()]\n",
      "critics = critics[critics.fresh != 'none']\n",
      "critics = critics[critics.quote.str.len() > 0]\n",
      "#critics = critics[critics.critic.str.len() > 0]"
     ],
     "language": "python",
     "metadata": {},
     "outputs": [
      {
       "output_type": "stream",
       "stream": "stdout",
       "text": [
        "    id                           title  imdbID  year   rtid\n",
        "0    1                       Toy story  114709  1995   9559\n",
        "1    2                         Jumanji  113497  1995  12436\n",
        "2    3                  Grumpy Old Men  107050  1993  10498\n",
        "3    4               Waiting to Exhale  114885  1995  16697\n",
        "4    5     Father of the Bride Part II  113041  1995  10379\n",
        "5    6                            Heat  113277  1995  13098\n",
        "6    7                         Sabrina   47437  1954  18228\n",
        "7    8                    Tom and Huck  112302  1995  11639\n",
        "8    9                    Sudden Death  114576  1995  15378\n",
        "9   10                       GoldenEye  113189  1995  12812\n",
        "10  11          The American President  112346  1995  10129\n",
        "11  12     Dracula: Dead and Loving It  112896  1995  10445\n",
        "12  13                           Balto  112453  1995   9562\n",
        "13  14                           Nixon  113987  1995  16248\n",
        "14  15                Cutthroat Island  112760  1995  10672\n",
        "15  16                          Casino  112641  1995  13456\n",
        "16  17           Sense and Sensibility  114388  1995  10042\n",
        "17  18                      Four Rooms  113101  1995  13075\n",
        "18  19  Ace Ventura: When Nature Calls  112281  1995  10604\n",
        "19  20                     Money Train  113845  1995  14560\n",
        "               critic  fresh    imdb     publication                                              quote   review_date  rtid      title\n",
        "1         Derek Adams  fresh  114709        Time Out  So ingenious in concept, design and execution ...  10/4/09 0:00  9559  Toy Story\n",
        "2     Richard Corliss  fresh  114709   TIME Magazine                  The year's most inventive comedy.  8/31/08 0:00  9559  Toy Story\n",
        "3         David Ansen  fresh  114709        Newsweek  A winning animated feature that has something ...  8/18/08 0:00  9559  Toy Story\n",
        "4       Leonard Klady  fresh  114709         Variety  The film sports a provocative and appealing st...   6/9/08 0:00  9559  Toy Story\n",
        "5  Jonathan Rosenbaum  fresh  114709  Chicago Reader  An entertaining computer-generated, hyperreali...  3/10/08 0:00  9559  Toy Story"
       ]
      },
      {
       "output_type": "stream",
       "stream": "stdout",
       "text": [
        "\n",
        "                critic  fresh   imdb     publication                                              quote    review_date   rtid                title\n",
        "27741  Ronald Holloway  fresh  86005         Variety  Measures up to the promise Ballard amply provi...   7/23/08 0:00  12606       Never Cry Wolf\n",
        "27742              NaN  fresh  86005        Time Out  For the most part very absorbing, the film suf...   1/26/06 0:00  12606       Never Cry Wolf\n",
        "27743    Vincent Canby  fresh  86005  New York Times  Perhaps the best thing about the film is that ...   8/30/04 0:00  12606       Never Cry Wolf\n",
        "27744        Dave Kehr  fresh  86005  Chicago Reader  The film is still memorable for its compassion...    1/1/00 0:00  12606       Never Cry Wolf\n",
        "27751       Don Druker  fresh  55353  Chicago Reader  It does have enough gritty insights and (for t...  11/13/07 0:00  18541  A Raisin in the Sun\n",
        "15596\n"
       ]
      }
     ],
     "prompt_number": 236
    },
    {
     "cell_type": "markdown",
     "metadata": {},
     "source": [
      "A quick sanity check that everything looks ok at this point"
     ]
    },
    {
     "cell_type": "code",
     "collapsed": false,
     "input": [
      "assert set(critics.columns) == set('critic fresh imdb publication '\n",
      "                                   'quote review_date rtid title'.split())\n",
      "assert len(critics) > 10000"
     ],
     "language": "python",
     "metadata": {},
     "outputs": [],
     "prompt_number": 522
    },
    {
     "cell_type": "markdown",
     "metadata": {},
     "source": [
      "## Part 2: Explore\n",
      "\n",
      "Before delving into analysis, get a sense of what these data look like. Answer the following questions. Include your code!"
     ]
    },
    {
     "cell_type": "markdown",
     "metadata": {},
     "source": [
      "**2.1** How many reviews, critics, and movies are in this dataset?\n"
     ]
    },
    {
     "cell_type": "code",
     "collapsed": false,
     "input": [
      "num_critics = len(critics.critic.unique())\n",
      "num_movies = len(critics.title.unique())\n",
      "num_reviews = len(critics.quote.unique())\n",
      "print \"There are \" + str(num_critics) + \" critics in this dataset.\"\n",
      "print \"There are \" + str(num_movies) + \" movies in this dataset.\"\n",
      "print \"There are \" + str(num_reviews) + \" reviews in this dataset.\""
     ],
     "language": "python",
     "metadata": {},
     "outputs": [
      {
       "output_type": "stream",
       "stream": "stdout",
       "text": [
        "There are 622 critics in this dataset.\n",
        "There are 1930 movies in this dataset.\n",
        "There are 15582 reviews in this dataset.\n"
       ]
      }
     ],
     "prompt_number": 523
    },
    {
     "cell_type": "markdown",
     "metadata": {},
     "source": [
      "**2.2** What does the distribution of number of reviews per reviewer look like? Make a histogram"
     ]
    },
    {
     "cell_type": "code",
     "collapsed": false,
     "input": [
      "critics_df = critics.groupby('critic').apply(lambda x: x.critic.count()) # Group the dataframe by critic and count\n",
      "\n",
      "num_bins = len(set(critics_df)) # Determine the number of bins we want for the plot\n",
      "plt.hist(critics_df, normed=False, bins=num_bins)\n",
      "plt.xlabel(\"Critic\")\n",
      "plt.ylabel('Number of Reviews')\n",
      "plt.title(\"Number of Reviews per Reviewer in Rotten Tomatoes Sample\")\n",
      "remove_border(left=True, bottom=True) # Show only the bottom and left borders "
     ],
     "language": "python",
     "metadata": {},
     "outputs": [
      {
       "metadata": {},
       "output_type": "display_data",
       "png": "[encoded data removed]",
       "text": [
        "<matplotlib.figure.Figure at 0x10b5df050>"
       ]
      }
     ],
     "prompt_number": 524
    },
    {
     "cell_type": "markdown",
     "metadata": {},
     "source": [
      "**2.3** List the 5 critics with the most reviews, along with the publication they write for"
     ]
    },
    {
     "cell_type": "code",
     "collapsed": false,
     "input": [
      "mydf = pd.DataFrame({'count' : critics.groupby( [ \"critic\", \"publication\"] ).size()}).reset_index() # Accounts for critics writing for multiple pubs\n",
      "sorted_df = mydf.sort('count', ascending=False)\n",
      "print sorted_df.head(5)"
     ],
     "language": "python",
     "metadata": {},
     "outputs": [
      {
       "output_type": "stream",
       "stream": "stdout",
       "text": [
        "                 critic        publication  count\n",
        "583         Roger Ebert  Chicago Sun-Times   1078\n",
        "283  James Berardinelli          ReelViews    807\n",
        "292        Janet Maslin     New York Times    518\n",
        "679       Variety Staff            Variety    433\n",
        "361  Jonathan Rosenbaum     Chicago Reader    413\n"
       ]
      }
     ],
     "prompt_number": 525
    },
    {
     "cell_type": "markdown",
     "metadata": {},
     "source": [
      "**2.4** Of the critics with > 100 reviews, plot the distribution of average \"freshness\" rating per critic"
     ]
    },
    {
     "cell_type": "code",
     "collapsed": false,
     "input": [
      "top_critics = mydf[(mydf['count']> 100)] \n",
      "top_critics = top_critics[['critic', 'publication']]\n",
      "top_critics_df = critics.merge(top_critics, on='critic', how='inner')\n",
      "\n",
      "freshness_df = top_critics_df.groupby('critic').apply(lambda x: pd.Series(dict(count_fresh=(x.fresh == 'fresh').sum(),\n",
      "    count_rotten=(x.fresh == 'rotten').sum())))\n",
      "freshness_df['total_count']= freshness_df['count_fresh'] + freshness_df['count_rotten']\n",
      "freshness_df['prop_fresh']=(freshness_df.count_fresh.astype(float)/freshness_df.total_count.astype(float))\n",
      "fresh_proportions = freshness_df['prop_fresh'].values\n",
      "\n",
      "plt.hist(fresh_proportions, normed=False, bins=10)\n",
      "plt.xlabel(\"Proportion of Fresh Reviews\")\n",
      "plt.ylabel('Number of Critics')\n",
      "plt.title(\"Average Freshness Rating For Critics with Most Reviews\")\n",
      "plt.xlim(xmin=0, xmax=1) # Force axis length\n",
      "remove_border(left=True, bottom=True) # Show only the bottom and left borders "
     ],
     "language": "python",
     "metadata": {},
     "outputs": [
      {
       "metadata": {},
       "output_type": "display_data",
       "png": "[encoded data removed]",
       "text": [
        "<matplotlib.figure.Figure at 0x10e079e10>"
       ]
      }
     ],
     "prompt_number": 532
    },
    {
     "cell_type": "markdown",
     "metadata": {},
     "source": [
      "**2.5**\n",
      "Using the original `movies` dataframe, plot the rotten tomatoes Top Critics Rating as a function of year. Overplot the average for each year, ignoring the score=0 examples (some of these are missing data). Comment on the result -- is there a trend? What do you think it means?"
     ]
    },
    {
     "cell_type": "code",
     "collapsed": false,
     "input": [
      "scatter_p = plt.figure()\n",
      "movies_df = movies[['year', 'rtTopCriticsRating']]\n",
      "movies_df = movies_df[movies_df.rtTopCriticsRating != \"\\N\"]\n",
      "movies_df = movies_df[movies_df.rtTopCriticsRating != \"0\"]\n",
      "movies_df.rtTopCriticsRating = movies_df.rtTopCriticsRating.astype(float)\n",
      "\n",
      "movies_groupby = movies_df.groupby(['year']).mean()\n",
      "\n",
      "plt.scatter(movies_df['year'], movies_df['rtTopCriticsRating'], alpha=0.5)\n",
      "plt.plot(movies_groupby.index, movies_groupby.rtTopCriticsRating, color = 'orange', label=\"Average Top Critics Rating\")\n",
      "\n",
      "axis = scatter_p.gca() # Get current axis\n",
      "axis.set_ylabel('Top Critics Rating')\n",
      "axis.set_xlabel('Year')\n",
      "remove_border(left=True, bottom=True) # Show only the bottom and left borders \n",
      "plt.legend(loc='best',frameon=False)\n",
      "plt.title(\"Top Critics Movie Ratings Over Time\")\n",
      "plt.show()"
     ],
     "language": "python",
     "metadata": {},
     "outputs": [
      {
       "metadata": {},
       "output_type": "display_data",
       "png": "[encoded data removed]",
       "text": [
        "<matplotlib.figure.Figure at 0x10daeaf10>"
       ]
      }
     ],
     "prompt_number": 521
    },
    {
     "cell_type": "markdown",
     "metadata": {},
     "source": [
      "The average rating for movies appears to be decreasing as time progress. However, over the past few decades, there are much more data (i.e., reviews). The decrease in average rating could simply be due to a biased sampling of earlier movies. I would hypothesize that for the older films, most of the reviews were completed fairly close to the present, i.e., many, many years after original release. It would be reasonable to assume that such reviews were penned for mainly films that are still being watched today and these are less likely to be movies that were subpar or middle of the pack. It is also difficult to gauge, based on the information at hand, what the state of journalism was in the 1920s. With the advent of the Internet, it is much easier for people to cheaply create and disseminate reviews via blogging platforms. A wide array of movies can be rated at relatively low cost--not only blockbusters, high quality movies, or mainstream films. "
     ]
    },
    {
     "cell_type": "markdown",
     "metadata": {},
     "source": [
      "## Part 3: Sentiment Analysis\n",
      "\n",
      "You will now use a [Naive Bayes classifier](https://en.wikipedia.org/wiki/Naive_Bayes_classifier) to build a prediction model for whether a review is fresh or rotten, depending on the text of the review. See Lecture 9 for a discussion of Naive Bayes.\n",
      "\n",
      "Most models work with numerical data, so we need to convert the textual collection of reviews to something numerical. A common strategy for text classification is to represent each review as a \"bag of words\" vector -- a long vector\n",
      "of numbers encoding how many times a particular word appears in a blurb.\n",
      "\n",
      "Scikit-learn has an object called a `CountVectorizer` that turns text into a bag of words. Here's a quick tutorial:"
     ]
    },
    {
     "cell_type": "code",
     "collapsed": false,
     "input": [
      "from sklearn.feature_extraction.text import CountVectorizer\n",
      "\n",
      "text = ['Hop on pop', 'Hop off pop', 'Hop Hop hop']\n",
      "print \"Original text is\\n\", '\\n'.join(text)\n",
      "\n",
      "vectorizer = CountVectorizer(min_df=0)\n",
      "\n",
      "# call `fit` to build the vocabulary\n",
      "vectorizer.fit(text)\n",
      "\n",
      "# call `transform` to convert text to a bag of words\n",
      "x = vectorizer.transform(text)\n",
      "\n",
      "# CountVectorizer uses a sparse array to save memory, but it's easier in this assignment to \n",
      "# convert back to a \"normal\" numpy array\n",
      "array = x.toarray()\n",
      "x = x.tocsc()\n",
      "print array.shape\n",
      "print x.shape\n",
      "print \"Transformed text vector is \\n\", x\n",
      "print \"Transformed text vector is \\n\", array\n",
      "\n",
      "# `get_feature_names` tracks which word is associated with each column of the transformed x\n",
      "print\n",
      "print \"Words for each feature:\"\n",
      "print vectorizer.get_feature_names()\n",
      "\n",
      "# Notice that the bag of words treatment doesn't preserve information about the *order* of words, \n",
      "# just their frequency"
     ],
     "language": "python",
     "metadata": {},
     "outputs": [
      {
       "output_type": "stream",
       "stream": "stdout",
       "text": [
        "Original text is\n",
        "Hop on pop\n",
        "Hop off pop\n",
        "Hop Hop hop\n",
        "(3, 4)"
       ]
      },
      {
       "output_type": "stream",
       "stream": "stdout",
       "text": [
        "\n",
        "(3, 4)\n",
        "Transformed text vector is \n",
        "  (0, 0)\t1\n",
        "  (1, 0)\t1\n",
        "  (2, 0)\t3\n",
        "  (1, 1)\t1\n",
        "  (0, 2)\t1\n",
        "  (0, 3)\t1\n",
        "  (1, 3)\t1\n",
        "Transformed text vector is \n",
        "[[1 0 1 1]\n",
        " [1 1 0 1]\n",
        " [3 0 0 0]]\n",
        "\n",
        "Words for each feature:\n",
        "[u'hop', u'off', u'on', u'pop']\n"
       ]
      }
     ],
     "prompt_number": 192
    },
    {
     "cell_type": "markdown",
     "metadata": {},
     "source": [
      "**3.1**\n",
      "\n",
      "Using the `critics` dataframe, compute a pair of numerical X, Y arrays where:\n",
      "    \n",
      " * X is a `(nreview, nwords)` array. Each row corresponds to a bag-of-words representation for a single review. This will be the *input* to your model.\n",
      " * Y is a `nreview`-element 1/0 array, encoding whether a review is Fresh (1) or Rotten (0). This is the desired *output* from your model.\n"
     ]
    },
    {
     "cell_type": "code",
     "collapsed": false,
     "input": [
      "#hint: Consult the scikit-learn documentation to\n",
      "#      learn about what these classes do do\n",
      "from sklearn.cross_validation import train_test_split\n",
      "from sklearn.naive_bayes import MultinomialNB\n",
      "\n",
      "\"\"\"\n",
      "Function\n",
      "--------\n",
      "make_xy\n",
      "\n",
      "Build a bag-of-words training set for the review data\n",
      "\n",
      "Parameters\n",
      "-----------\n",
      "critics : Pandas DataFrame\n",
      "    The review data from above\n",
      "    \n",
      "vectorizer : CountVectorizer object (optional)\n",
      "    A CountVectorizer object to use. If None,\n",
      "    then create and fit a new CountVectorizer.\n",
      "    Otherwise, re-fit the provided CountVectorizer\n",
      "    using the critics data\n",
      "    \n",
      "Returns\n",
      "-------\n",
      "X : numpy array (dims: nreview, nwords)\n",
      "    Bag-of-words representation for each review.\n",
      "Y : numpy array (dims: nreview)\n",
      "    1/0 array. 1 = fresh review, 0 = rotten review\n",
      "\n",
      "Examples\n",
      "--------\n",
      "X, Y = make_xy(critics)\n",
      "\"\"\"\n",
      "def make_xy(critics, vectorizer=None):\n",
      "    if vectorizer == None:\n",
      "        vectorizer = CountVectorizer(min_df=0) #min_df = 0?\n",
      "   \n",
      "    text = critics['quote'].values\n",
      "\n",
      "    # call `fit` to build the vocabulary\n",
      "    vectorizer.fit(text)\n",
      "\n",
      "    # call `transform` to convert text to a bag of words\n",
      "    x = vectorizer.transform(text)\n",
      "    x = x.tocsc()    \n",
      "    y = critics['fresh'].apply(lambda x: 1 if x == 'fresh' else 0)\n",
      "   \n",
      "    return x, y"
     ],
     "language": "python",
     "metadata": {},
     "outputs": [],
     "prompt_number": 533
    },
    {
     "cell_type": "code",
     "collapsed": false,
     "input": [
      "X, Y = make_xy(critics)"
     ],
     "language": "python",
     "metadata": {},
     "outputs": [],
     "prompt_number": 534
    },
    {
     "cell_type": "markdown",
     "metadata": {},
     "source": [
      "\n",
      "**3.2** Next, randomly split the data into two groups: a\n",
      "training set and a validation set. \n",
      "\n",
      "Use the training set to train a `MultinomialNB` classifier,\n",
      "and print the accuracy of this model on the validation set\n",
      "\n",
      "**Hint**\n",
      "You can use [`train_test_split`](http://scikit-learn.org/stable/modules/generated/sklearn.cross_validation.train_test_split.html) to split up the training data"
     ]
    },
    {
     "cell_type": "code",
     "collapsed": false,
     "input": [
      "X_train, X_test, y_train, y_test = train_test_split(X, Y)\n",
      "from sklearn.naive_bayes import MultinomialNB\n",
      "clf = MultinomialNB()\n",
      "clf.fit(X_train, y_train)\n",
      "\n",
      "predicted_test = clf.predict(X_test)\n",
      "clf.score(X_train, y_train), clf.score(X_test, y_test)"
     ],
     "language": "python",
     "metadata": {},
     "outputs": [
      {
       "metadata": {},
       "output_type": "pyout",
       "prompt_number": 535,
       "text": [
        "(0.92408309823031543, 0.77045396255450116)"
       ]
      }
     ],
     "prompt_number": 535
    },
    {
     "cell_type": "markdown",
     "metadata": {},
     "source": [
      "**3.3:**\n",
      "\n",
      "We say a model is **overfit** if it performs better on the training data than on the test data. Is this model overfit? If so, how much more accurate is the model on the training data compared to the test data?"
     ]
    },
    {
     "cell_type": "markdown",
     "metadata": {},
     "source": [
      "To measure the fit of the model, I used the clf.score() method in sci-kit learn. The\n",
      "score of the training data set is 0.92, while that of the testing data set is much lower:\n",
      "0.776. The discrepancy between these two values highlights the bias/variance tradeoff we\n",
      "have discussed throughout the course thus far. We can decompose our model's learning-error into \n",
      "the sum of bias and variance, which generally cannot be minimized simultaneously. A model\n",
      "with the lowest possible bias will even classify noise correctly, but will have high variance\n",
      "as a result. Such a model does not generalize well, i.e., does not have much predictive power, a microcosm of which we are seeing here.\n"
     ]
    },
    {
     "cell_type": "markdown",
     "metadata": {},
     "source": [
      "**3.4: Model Calibration**\n",
      "\n",
      "Bayesian models like the Naive Bayes classifier have the nice property that they compute probabilities of a particular classification -- the `predict_proba` and `predict_log_proba` methods of `MultinomialNB` compute these probabilities. \n",
      "\n",
      "Being the respectable Bayesian that you are, you should always assess whether these probabilities are **calibrated** -- that is, whether a prediction made with a confidence of `x%` is correct approximately `x%` of the time. We care about calibration because it tells us whether we can trust the probabilities computed by a model. If we can trust model probabilities, we can make better decisions using them (for example, we can calculate how much we should bet or invest in a given prediction).\n",
      "\n",
      "Let's make a plot to assess model calibration. Schematically, we want something like this:\n",
      "\n",
      "<img src=\"http://i.imgur.com/ea5B6zr.png\" width=500px>\n",
      "\n",
      "In words, we want to:\n",
      "\n",
      "* Take a collection of examples, and compute the freshness probability for each using `clf.predict_proba`\n",
      "* Gather examples into bins of similar freshness probability (the diagram shows 5 groups -- you should use something closer to 20)\n",
      "* For each bin, count the number of examples in that bin, and compute the fraction of examples in the bin which are fresh\n",
      "* In the upper plot, graph the expected P(Fresh) (x axis) and observed freshness fraction (Y axis). Estimate the uncertainty in observed freshness fraction $F$ via the [equation](http://en.wikipedia.org/wiki/Binomial_proportion_confidence_interval) $\\sigma = \\sqrt{F (1-F) / N}$\n",
      "* Overplot the line y=x. This is the trend we would expect if the model is calibrated\n",
      "* In the lower plot, show the number of examples in each bin\n",
      "\n",
      "**Hints**\n",
      "\n",
      "The output of `clf.predict_proba(X)` is a `(N example, 2)` array. The first column gives the probability $P(Y=0)$ or  $P(Rotten)$, and the second gives $P(Y=1)$ or $P(Fresh)$.\n",
      "\n",
      "The above image is just a guideline -- feel free to explore other options!"
     ]
    },
    {
     "cell_type": "code",
     "collapsed": false,
     "input": [
      "\"\"\"\n",
      "Function\n",
      "--------\n",
      "calibration_plot\n",
      "\n",
      "Builds a plot like the one above, from a classifier and review data\n",
      "\n",
      "Inputs\n",
      "-------\n",
      "clf : Classifier object\n",
      "    A MultinomialNB classifier\n",
      "X : (Nexample, Nfeature) array\n",
      "    The bag-of-words data\n",
      "Y : (Nexample) integer array\n",
      "    1 if a review is Fresh\n",
      "\"\"\"    \n",
      "def calibration_plot(clf, xtest, ytest):\n",
      "    exarray = clf.predict_proba(xtest)\n",
      "\n",
      "    \"\"\"\n",
      "    Set code for the up the histogram\n",
      "    \"\"\"\n",
      "    fig=plt.figure()\n",
      "    plt.hist(exarray[:, 1], normed=False, label=\"Freshness\", bins=20)\n",
      "    axis = fig.gca() # Get current axis\n",
      "    axis.set_ylabel('Number') \n",
      "    remove_border(left=True, bottom=True)\n",
      "    plt.show()\n",
      "    \n",
      "    bin_num = []\n",
      "    bin_num = [int(x*100/5) for x in exarray[:, 1]] # Create an array to hold our bin numbers\n",
      "    a = pd.Series(exarray[:, 1])\n",
      "    df = pd.DataFrame({'prob_fresh': a, 'bin_num': bin_num, 'fresh': ytest})\n",
      "   \n",
      "    frac_fresh = (df.groupby('bin_num').apply(lambda x: (x.fresh == 1).sum()))/(df.groupby('bin_num').size()).astype(float)\n",
      "    num_in_bin = (df.groupby('bin_num').size()) # Get the number of reviews in each bin\n",
      " \n",
      "    mask = (df.fresh == 1) \n",
      "    mprob_fresh = (df.groupby('bin_num').apply(lambda x: x.prob_fresh.mean(mask))) # Subset and gather only the Fresh reviews\n",
      "    df_plot = pd.DataFrame({'prob_fresh': mprob_fresh, 'frac_fresh': frac_fresh, 'num_in_bin': num_in_bin})\n",
      "    df_plot.reset_index(inplace=True)\n",
      "    df_plot = df_plot.drop('bin_num',1)\n",
      "    \n",
      "    def calc_sigma(x): # Function to calculate sigma based on provided formula\n",
      "        return np.sqrt(x['frac_fresh']*(1-x['frac_fresh'])/x['num_in_bin'])\n",
      "    df_plot[\"sigma\"] = df_plot.apply(calc_sigma, axis=1) \n",
      " \n",
      "    \"\"\"\n",
      "    Set code for line plot\n",
      "    \"\"\"\n",
      "    fig2=plt.figure()\n",
      "    plt.plot(df_plot.prob_fresh, df_plot.frac_fresh)\n",
      "    axis = fig2.gca() # Get current axis\n",
      "    axis.set_xlabel('P(Fresh)')\n",
      "    axis.set_ylabel('Fraction Fresh')\n",
      "    \n",
      "    x = np.array([0, max(df_plot.prob_fresh)]) \n",
      "    y = 1 * x # Create a line from slope, y-intercept, and x min/max in the form of y = mx + b\n",
      "    plt.plot(x, y) # Plot the line\n",
      "    plt.errorbar(df_plot.prob_fresh, df_plot.frac_fresh, xerr=None, yerr=df_plot.sigma, color=\"black\") # Add error bars\n",
      "    plt.axvline(x=0.5, color='r', ymax=1)\n",
      "    remove_border(left=True, bottom=True) # Show only the bottom and left borders "
     ],
     "language": "python",
     "metadata": {},
     "outputs": [],
     "prompt_number": 505
    },
    {
     "cell_type": "code",
     "collapsed": false,
     "input": [
      "calibration_plot(clf, X_test, y_test)"
     ],
     "language": "python",
     "metadata": {},
     "outputs": [
      {
       "metadata": {},
       "output_type": "display_data",
       "png": "[encoded data removed]",
       "text": [
        "<matplotlib.figure.Figure at 0x10e0731d0>"
       ]
      },
      {
       "metadata": {},
       "output_type": "display_data",
       "png": "[encoded data removed]",
       "text": [
        "<matplotlib.figure.Figure at 0x10c694ad0>"
       ]
      }
     ],
     "prompt_number": 506
    },
    {
     "cell_type": "markdown",
     "metadata": {},
     "source": [
      "**3.5** We might say a model is *over-confident* if the freshness fraction is usually closer to 0.5 than expected (that is, there is more uncertainty than the model predicted). Likewise, a model is *under-confident* if the probabilities are usually further away from 0.5. Is this model generally over- or under-confident? "
     ]
    },
    {
     "cell_type": "markdown",
     "metadata": {},
     "source": [
      "This model is generally over-confident. It is easiest for me to illustrate this point with a concrete example: At around estimated probability 0.1, the empirical average freshness is 0.3 The estimated probability is farther away from 0.5--a pure coin flip--than the empirical average freshness is from 0.5 (the empirical average is only 0.2 away from 0.5, while the model is 0.4 away; our model is much more certain the reviews in this bin would be rotten than the actual data show). Thus, our model is more confident that the actual data. I have drawn a vertical line at x = 0.5 for convenience. The model is over-confident to the left of this vertical line whenever the black line is above the orange--this happens in most cases. Likewise, to the right of the line, our model is over-confident whenever the black line is below the orange line--again, this is generally true. To the right of the red line, there are a few instances where the standard error bars overlap with the observed data. We might consider these to be neither over- nor under-confident. The same would hold true for the cases where our estimates lie on the orange line. In these cases, our predictions match the observed data."
     ]
    },
    {
     "cell_type": "markdown",
     "metadata": {},
     "source": [
      "#### Cross Validation\n",
      "\n",
      "Our classifier has a few free parameters. The two most important are:\n",
      "\n",
      " 1. The `min_df` keyword in `CountVectorizer`, which will ignore words which appear in fewer than `min_df` fraction of reviews. Words that appear only once or twice can lead to overfitting, since words which occur only a few times might correlate very well with Fresh/Rotten reviews by chance in the training dataset.\n",
      " \n",
      " 2. The [`alpha` keyword](http://scikit-learn.org/stable/modules/naive_bayes.html#multinomial-naive-bayes) in the Bayesian classifier is a \"smoothing parameter\" -- increasing the value decreases the sensitivity to any single feature, and tends to pull prediction probabilities closer to 50%. \n",
      "\n",
      "As discussed in lecture and HW2, a common technique for choosing appropriate values for these parameters is **cross-validation**. Let's choose good parameters by maximizing the cross-validated log-likelihood.\n",
      "\n",
      "**3.6** Using `clf.predict_log_proba`, write a function that computes the log-likelihood of a dataset"
     ]
    },
    {
     "cell_type": "code",
     "collapsed": false,
     "input": [
      "\"\"\"\n",
      "Function\n",
      "--------\n",
      "log_likelihood\n",
      "\n",
      "Compute the log likelihood of a dataset according to a bayesian classifier. \n",
      "The Log Likelihood is defined by\n",
      "\n",
      "L = Sum_fresh(logP(fresh)) + Sum_rotten(logP(rotten))\n",
      "\n",
      "Where Sum_fresh indicates a sum over all fresh reviews, \n",
      "and Sum_rotten indicates a sum over rotten reviews\n",
      "    \n",
      "Parameters\n",
      "----------\n",
      "clf : Bayesian classifier\n",
      "x : (nexample, nfeature) array\n",
      "    The input data\n",
      "y : (nexample) integer array\n",
      "    Whether each review is Fresh\n",
      "\"\"\"\n",
      "def log_likelihood(clf, x, y):\n",
      "    test = clf.predict_log_proba(x);\n",
      "    df_likelihood = pd.DataFrame({'p_rotten': test[:,0], 'p_fresh': test[:,1], 'fresh': y})\n",
      "    fresh=df_likelihood[df_likelihood.fresh == 1]\n",
      "    rotten=df_likelihood[df_likelihood.fresh == 0]\n",
      "    sum_fresh = fresh.p_fresh.sum()\n",
      "    sum_rotten = rotten.p_rotten.sum()\n",
      "    log_likelihood = sum_fresh + sum_rotten\n",
      "    return log_likelihood\n",
      "log_likelihood(clf, X_test, y_test)"
     ],
     "language": "python",
     "metadata": {},
     "outputs": [
      {
       "metadata": {},
       "output_type": "pyout",
       "prompt_number": 536,
       "text": [
        "-2235.6002831575338"
       ]
      }
     ],
     "prompt_number": 536
    },
    {
     "cell_type": "markdown",
     "metadata": {},
     "source": [
      "Here's a function to estimate the cross-validated value of a scoring function, given a classifier and data"
     ]
    },
    {
     "cell_type": "code",
     "collapsed": false,
     "input": [
      "from sklearn.cross_validation import KFold\n",
      "\n",
      "def cv_score(clf, x, y, score_func):\n",
      "    \"\"\"\n",
      "    Uses 5-fold cross validation to estimate a score of a classifier\n",
      "    \n",
      "    Inputs\n",
      "    ------\n",
      "    clf : Classifier object\n",
      "    x : Input feature vector\n",
      "    y : Input class labels\n",
      "    score_func : Function like log_likelihood, that takes (clf, x, y) as input,\n",
      "                 and returns a score\n",
      "                 \n",
      "    Returns\n",
      "    -------\n",
      "    The average score obtained by randomly splitting (x, y) into training and \n",
      "    test sets, fitting on the training set, and evaluating score_func on the test set\n",
      "    \n",
      "    Examples\n",
      "    cv_score(clf, x, y, log_likelihood)\n",
      "    \"\"\"\n",
      "    result = 0\n",
      "    nfold = 5\n",
      "    for train, test in KFold(y.size, nfold): # split data into train/test groups, 5 times\n",
      "        clf.fit(x[train], y[train]) # fit\n",
      "        result += score_func(clf, x[test], y[test]) # evaluate score function on held-out data\n",
      "    return result / nfold # average\n",
      "#cv_score(clf, X, Y, log_likelihood)\n",
      "# as a side note, this function is builtin to the newest version of sklearn. We could just write\n",
      "# sklearn.cross_validation.cross_val_score(clf, x, y, scorer=log_likelihood)."
     ],
     "language": "python",
     "metadata": {},
     "outputs": [],
     "prompt_number": 537
    },
    {
     "cell_type": "markdown",
     "metadata": {},
     "source": [
      "**3.7**\n",
      "\n",
      "Fill in the remaining code in this block, to loop over many values of `alpha` and `min_df` to determine\n",
      "which settings are \"best\" in the sense of maximizing the cross-validated log-likelihood"
     ]
    },
    {
     "cell_type": "code",
     "collapsed": false,
     "input": [
      "#the grid of parameters to search over\n",
      "alphas = [0, .1, 1, 5, 10, 50]\n",
      "min_dfs = [1e-5, 1e-4, 1e-3, 1e-2, 1e-1]\n",
      "\n",
      "#Find the best value for alpha and min_df, and the best classifier\n",
      "best_alpha = None\n",
      "best_min_df = None\n",
      "max_loglike = -np.inf\n",
      "\n",
      "for alpha in alphas:\n",
      "    for min_df in min_dfs: \n",
      "        vectorizer = CountVectorizer(min_df = min_df)\n",
      "        X, Y = make_xy(critics, vectorizer)\n",
      "        Y = Y.values # Must be a numpy array - convert!\n",
      "        clf = MultinomialNB(alpha=alpha)\n",
      "        clf.fit(X, Y)\n",
      "        result = cv_score(clf, X, Y, log_likelihood)\n",
      "       \n",
      "        if result > max_loglike:\n",
      "            max_loglike = result\n",
      "            best_alpha = alpha\n",
      "            best_min_df = min_df"
     ],
     "language": "python",
     "metadata": {},
     "outputs": [],
     "prompt_number": 538
    },
    {
     "cell_type": "code",
     "collapsed": false,
     "input": [
      "print \"alpha: %f\" % best_alpha\n",
      "print \"min_df: %f\" % best_min_df"
     ],
     "language": "python",
     "metadata": {},
     "outputs": [
      {
       "output_type": "stream",
       "stream": "stdout",
       "text": [
        "alpha: 5.000000\n",
        "min_df: 0.001000\n"
       ]
      }
     ],
     "prompt_number": 539
    },
    {
     "cell_type": "markdown",
     "metadata": {},
     "source": [
      "**3.8** Now that you've determined values for alpha and min_df that optimize the cross-validated log-likelihood, repeat the steps in 3.1, 3.2, and 3.4 to train a final classifier with these parameters, re-evaluate the accuracy, and draw a new calibration plot."
     ]
    },
    {
     "cell_type": "code",
     "collapsed": false,
     "input": [
      "vectorizer = CountVectorizer(min_df=best_min_df) #I nstatiate a new CountVectorizer with best_min_df\n",
      "text = critics['quote'].values\n",
      "vectorizer.fit(text)\n",
      "X, Y = make_xy(critics, vectorizer) # Call make_xy\n",
      "Y = Y.values # Must be a numpy array - convert!\n",
      "\n",
      "X_train, X_test, y_train, y_test = train_test_split(X, Y) # Split data into test and training sets\n",
      "clf = MultinomialNB(alpha = best_alpha) # Create a new classifier, using the best alpha from above\n",
      "clf.fit(X_train, y_train) # Fit the model\n",
      "\n",
      "predicted_test = clf.predict(X_test)\n",
      "print clf.score(X_train, y_train)\n",
      "print clf.score(X_test, y_test)\n",
      "# Plot the new X and Y test data\n",
      "calibration_plot(clf, X_test, y_test)"
     ],
     "language": "python",
     "metadata": {},
     "outputs": [
      {
       "output_type": "stream",
       "stream": "stdout",
       "text": [
        "0.786782935796\n",
        "0.73762503206\n"
       ]
      },
      {
       "metadata": {},
       "output_type": "display_data",
       "png": "[encoded data removed]",
       "text": [
        "<matplotlib.figure.Figure at 0x10c977190>"
       ]
      },
      {
       "metadata": {},
       "output_type": "display_data",
       "png": "[encoded data removed]",
       "text": [
        "<matplotlib.figure.Figure at 0x10c1bce90>"
       ]
      }
     ],
     "prompt_number": 540
    },
    {
     "cell_type": "markdown",
     "metadata": {},
     "source": [
      "**3.9** Discuss the various ways in which Cross-Validation has affected the model. Is the new model more or less accurate? Is overfitting better or worse? Is the model more or less calibrated?"
     ]
    },
    {
     "cell_type": "markdown",
     "metadata": {},
     "source": [
      "After performing cross-validation, the model accuracy for the training set of data has decreased from 0.92 to 0.79. For the test data set, the cross-validated model yields a score that is only slightly less accurate than our initial model: 0.73 (post-cross-validation) versus 0.78. The model still performs well overall, i.e., our training and testing data sets are classifying reviews with a fairly high level of accuracy. The overfitting, however, is now much \"better,\" i.e., there is nearly a one-to-one correspondence between the accuracy of the training data and the test data (here, the training data has a score of 0.79). The model is also more calibrated: Our predictions lie closer to the orange line (this line indicates a one-to-one correspondence between our prediction and the actual data) than in our first model."
     ]
    },
    {
     "cell_type": "markdown",
     "metadata": {},
     "source": [
      "*To think about/play with, but not to hand in: What would happen if you tried this again using a function besides the log-likelihood -- for example, the classification accuracy?*"
     ]
    },
    {
     "cell_type": "markdown",
     "metadata": {},
     "source": [
      "## Part 4: Interpretation. What words best predict a fresh or rotten review?\n",
      "\n",
      "**4.1**\n",
      "Using your classifier and the `vectorizer.get_feature_names` method, determine which words best predict a positive or negative review. Print the 10 words\n",
      "that best predict a \"fresh\" review, and the 10 words that best predict a \"rotten\" review. For each word, what is the model's probability of freshness if the word appears one time?\n",
      "\n",
      "#### Hints\n",
      "\n",
      "* Try computing the classification probability for a feature vector which consists of all 0s, except for a single 1. What does this probability refer to?\n",
      "\n",
      "* `np.eye` generates a matrix where the ith row is all 0s, except for the ith column which is 1."
     ]
    },
    {
     "cell_type": "code",
     "collapsed": false,
     "input": [
      "vectorizer = CountVectorizer(min_df=best_min_df) \n",
      "text = critics['quote'].values\n",
      "vectorizer.fit(text)\n",
      "x = vectorizer.transform(text)\n",
      "x = x.tocsc()\n",
      "\n",
      "clf = MultinomialNB(alpha=best_alpha)\n",
      "clf.fit(x, Y)\n",
      "names = vectorizer.get_feature_names()\n",
      "eye_matrix = np.eye(len(names))\n",
      "probs = clf.predict_proba(eye_matrix)\n",
      "p_fresh = probs[:,1]\n",
      "p_rotten = probs[:,0]\n",
      "\n",
      "fresh_words = pd.DataFrame({'p_fresh': p_fresh, 'words': names})\n",
      "rotten_words = pd.DataFrame({'p_rotten': p_rotten, 'words':names})\n",
      "top_ten_fresh = fresh_words.sort('p_fresh', ascending=False)\n",
      "top_ten_rotten = rotten_words.sort('p_rotten', ascending=False)\n",
      "print top_ten_fresh.head(10)\n",
      "print top_ten_rotten.head(10)"
     ],
     "language": "python",
     "metadata": {},
     "outputs": [
      {
       "output_type": "stream",
       "stream": "stdout",
       "text": [
        "       p_fresh        words\n",
        "453   0.917799      delight\n",
        "1898  0.901334     touching\n",
        "1122  0.896133  masterpiece\n",
        "1487  0.890353   remarkable\n",
        "1779  0.881566       superb\n",
        "2077  0.869175        witty\n",
        "1453  0.868380         rare\n",
        "948   0.866598  intelligent\n",
        "254   0.866598     captures\n",
        "1329  0.863470      perfect\n",
        "      p_rotten           words\n",
        "1016  0.884853            lame\n",
        "1953  0.875578   unfortunately\n",
        "1373  0.863113       pointless\n",
        "1955  0.859318      uninspired\n",
        "186   0.855307           bland\n",
        "1954  0.835802         unfunny\n",
        "521   0.826823            dull\n",
        "491   0.821352  disappointment\n",
        "2076  0.805365         witless\n",
        "1203  0.804113         muddled\n"
       ]
      }
     ],
     "prompt_number": 547
    },
    {
     "cell_type": "markdown",
     "metadata": {},
     "source": [
      "**4.2**\n",
      "\n",
      "One of the best sources for inspiration when trying to improve a model is to look at examples where the model performs poorly. \n",
      "\n",
      "Find 5 fresh and rotten reviews where your model performs particularly poorly. Print each review."
     ]
    },
    {
     "cell_type": "code",
     "collapsed": false,
     "input": [
      "probabilities = clf.predict_proba(X)\n",
      "df_poor_performance = pd.DataFrame({'p_rotten': probabilities[:,0], 'p_fresh': probabilities[:,1], 'fresh': Y, 'quote': critics['quote']})\n",
      "df_mispredict_rotten = df_poor_performance[df_poor_performance.fresh==0]\n",
      "df_mispredict_fresh = df_poor_performance[df_poor_performance.fresh==1]\n",
      "df_mispredict_fresh.sort(['p_fresh'], ascending=True, inplace=True)\n",
      "df_mispredict_rotten.sort(['p_rotten'], ascending=True, inplace=True)\n",
      "\n",
      "print \"Top five mispredicted fresh reviews - aka, should have been rotten \\n\" \n",
      "print df_mispredict_rotten.quote[:5].values\n",
      "df_mispredict_rotten.sort(['p_fresh'], ascending=False, inplace=True)\n",
      "print \"\\n\"\n",
      "print \"Top five mispredicted rotten reviews - aka, should have been fresh \\n\" \n",
      "print df_mispredict_fresh.quote[:5].values"
     ],
     "language": "python",
     "metadata": {},
     "outputs": [
      {
       "output_type": "stream",
       "stream": "stdout",
       "text": [
        "Top five mispredicted fresh reviews - aka, should have been rotten \n",
        "\n",
        "[ 'It survives today only as an unusually pure example of a typical 50s art-film strategy: the attempt to make the most modern and most popular of art forms acceptable to the intelligentsia by forcing it into an arcane, antique mold.'\n",
        " \"Benefits from a lively lead performance by the miscast Denzel Washington but doesn't come within light years of the book, one of the greatest American autobiographies.\"\n",
        " 'This pacifist spirit of brotherhood echoes the heroics in Princess Mononoke and other anime titles, but the artistic gap between the Miyazaki masterpiece and this project is huge.'\n",
        " 'It is sometimes funny in a puzzling kind of way, it is generally overwrought in an irritating kind of way, and once in a while it is inappropriately touching.'\n",
        " \"The Waterboy is arguably Sandler's most enjoyable motion picture to date, but it's still far from a masterpiece.\"]\n",
        "\n",
        "\n",
        "Top five mispredicted rotten reviews - aka, should have been fresh \n",
        "\n",
        "[ \"Some of the gags don't work, but fewer than in any previous Brooks film that I've seen, and when the jokes are meant to be bad, they are riotously poor. What more can one ask of Mel Brooks?\"\n",
        " \"Though it's a good half hour too long, this overblown 1993 spin-off of the 60s TV show otherwise adds up to a pretty good suspense thriller.\"\n",
        " \"There's too much talent and too strong a story to mess it up. There was potential for more here, but this incarnation is nothing to be ashamed of, and some of the actors answer the bell.\"\n",
        " 'Might it be a serious attempt to right some unretrievable wrong via gallows humor which avoids the polemics? This seems to be the course taken; the attempt at least can be respected in theory.'\n",
        " \"The gangland plot is flimsy (bad guy Peter Greene wears too much eyeliner), and the jokes are erratic, but it's a far better showcase for Carrey's comic-from-Uranus talent than Ace Ventura.\"]\n"
       ]
      }
     ],
     "prompt_number": 543
    },
    {
     "cell_type": "markdown",
     "metadata": {},
     "source": [
      "\n",
      ".**4.3** What do you notice about these mis-predictions? Naive Bayes classifiers assume that every word affects the probability independently of other words. In what way is this a bad assumption? In your answer, report your classifier's Freshness probability for the review \"This movie is not remarkable, touching, or superb in any way\"."
     ]
    },
    {
     "cell_type": "code",
     "collapsed": false,
     "input": [
      "example = [\"This movie is not remarkable, touching, or superb in any way.\"]\n",
      "x = vectorizer.transform(example)\n",
      "x = x.tocsc()\n",
      "probs = clf.predict_proba(x)\n",
      "print probs"
     ],
     "language": "python",
     "metadata": {},
     "outputs": [
      {
       "output_type": "stream",
       "stream": "stdout",
       "text": [
        "[[ 0.00895494  0.99104506]]\n"
       ]
      }
     ],
     "prompt_number": 544
    },
    {
     "cell_type": "markdown",
     "metadata": {},
     "source": [
      "Considering the example review and the \"poor performers\" we found in 4.2, we find that in reality, the conditional independence assumption underpinning Naive Bayes does not hold for text data. In other words, there are often terms in language that are conditionally dependent on each other. The \"bag of words\" model discards all information that is communicated by the order of words in natural language sentences. Our model performs particulary poorly in cases of negation: \"not remarkable\" and \"remarkable\" are treated the same because the negation (\"not\") has been divorced from the adjective (\"remarkable\") in the bag of words. As a reader, we can immediately discern that the review provided should be Rotten, but our model has predicted a Fresh classification with a probability of 99% due to the presence of words associated with Fresh reviews (remarkable, touching, superb). "
     ]
    },
    {
     "cell_type": "markdown",
     "metadata": {},
     "source": [
      "**4.4**\n",
      "If this was your final project, what are 3 things you would try in order to build a more effective review classifier? What other exploratory or explanatory visualizations do you think might be helpful?"
     ]
    },
    {
     "cell_type": "markdown",
     "metadata": {},
     "source": [
      "1) Incorporating negation would improve the effectiveness of the review classifier. For instance, before passing our text to the CountVectorizer, we might try preprocessing the review text by concatenating \"not\" + the word immediately following to capture the negation. This would be a blunt approach, but I am sure that the desired outcome (negation) could be achieved if implemented in a more thoughtful manner. \n",
      "\n",
      "2) I think it would also be interesting to capture the information communicated by modifiers, such as \"extremely\" or \"very\" in conjunction with an adjective. While \"very\" does not communicate much valuable information in and of itself, a phrase like \"very good\" would likely increase the probability of a review being Fresh. \n",
      "\n",
      "3) Increasing the quote length/size and/or quality of the review quote is another improvement I would implement. For example, one of the misclassified reviews printed above is as follows: \"Though it's a good half hour too long, this overblown 1993 spin-off of the 60s TV show otherwise adds up to a pretty good suspense thriller.\" I imagine that this review was misclassified due to the presence of the word \"overblown.\" If the text we were analyzing contained more information or an additional sentence, we may have gathered more positive (i.e., words correlated with Fresh) words and have better context. \n",
      "\n",
      "4) It would be interesting to experiment with these data, subsetting out by genre. In certain genres, terms that may be associated with a Rotten review like grotesque or horrifying, might actually indicate a positive sentiment in the Horror genre. \n",
      "\n",
      "In terms of exploratory visualizations, I would like to plot a series of histograms for all of the misclassified reviews. Specifically, I would explore the count of misclassified reviews by genre and year to see if there were any discernible patterns. I would also like to plot P(Fresh) by quote length for both accurately classified reviews and misclassified reviews (two separate lines for each) to delve deeper into item number 3 above."
     ]
    },
    {
     "cell_type": "markdown",
     "metadata": {},
     "source": [
      "### How to Submit\n",
      "\n",
      "Restart and run your notebook one last time, to make sure the output from each cell is up to date. To submit your homework, create a folder named lastname_firstinitial_hw3 and place your solutions in the folder. Double check that the file is still called HW3.ipynb, and that it contains your code. Please do **not** include the critics.csv data file, if you created one. Compress the folder (please use .zip compression) and submit to the CS109 dropbox in the appropriate folder. If we cannot access your work because these directions are not followed correctly, we will not grade your work!"
     ]
    },
    {
     "cell_type": "markdown",
     "metadata": {},
     "source": [
      "---\n",
      "*css tweaks in this cell*\n",
      "<style>\n",
      "div.text_cell_render {\n",
      "    line-height: 150%;\n",
      "    font-size: 110%;\n",
      "    width: 800px;\n",
      "    margin-left:50px;\n",
      "    margin-right:auto;\n",
      "    }\n",
      "</style>"
     ]
    }
   ],
   "metadata": {}
  }
 ]
}